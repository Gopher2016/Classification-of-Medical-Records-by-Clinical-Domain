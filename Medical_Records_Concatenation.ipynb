{
 "cells": [
  {
   "cell_type": "code",
   "execution_count": 15,
   "metadata": {},
   "outputs": [],
   "source": [
    "import pandas as pd\n",
    "import numpy as np\n",
    "import re\n",
    "import requests\n",
    "import json\n",
    "import time\n",
    "from datetime import datetime\n",
    "from IPython.display import clear_output\n",
    "import pickle"
   ]
  },
  {
   "cell_type": "code",
   "execution_count": 29,
   "metadata": {},
   "outputs": [
    {
     "name": "stdout",
     "output_type": "stream",
     "text": [
      "230\n"
     ]
    },
    {
     "data": {
      "text/html": [
       "<div>\n",
       "<style scoped>\n",
       "    .dataframe tbody tr th:only-of-type {\n",
       "        vertical-align: middle;\n",
       "    }\n",
       "\n",
       "    .dataframe tbody tr th {\n",
       "        vertical-align: top;\n",
       "    }\n",
       "\n",
       "    .dataframe thead th {\n",
       "        text-align: right;\n",
       "    }\n",
       "</style>\n",
       "<table border=\"1\" class=\"dataframe\">\n",
       "  <thead>\n",
       "    <tr style=\"text-align: right;\">\n",
       "      <th></th>\n",
       "      <th>Medical_Specialty</th>\n",
       "      <th>Medical_Notes</th>\n",
       "    </tr>\n",
       "  </thead>\n",
       "  <tbody>\n",
       "    <tr>\n",
       "      <th>0</th>\n",
       "      <td>Gastroenterology</td>\n",
       "      <td>PREOPERATIVE DIAGNOSIS:Abdominal wall abscess....</td>\n",
       "    </tr>\n",
       "    <tr>\n",
       "      <th>1</th>\n",
       "      <td>Gastroenterology</td>\n",
       "      <td>PREOPERATIVE DIAGNOSES:1.  Congenital chylous ...</td>\n",
       "    </tr>\n",
       "    <tr>\n",
       "      <th>2</th>\n",
       "      <td>Gastroenterology</td>\n",
       "      <td>CHIEF COMPLAINT:Abdominal pain.HISTORY OF PRES...</td>\n",
       "    </tr>\n",
       "    <tr>\n",
       "      <th>3</th>\n",
       "      <td>Gastroenterology</td>\n",
       "      <td>PREOPERATIVE DIAGNOSIS:Recurrent re-infected s...</td>\n",
       "    </tr>\n",
       "    <tr>\n",
       "      <th>4</th>\n",
       "      <td>Gastroenterology</td>\n",
       "      <td>CHIEF COMPLAINT:Nausea.PRESENT ILLNESS:The pat...</td>\n",
       "    </tr>\n",
       "  </tbody>\n",
       "</table>\n",
       "</div>"
      ],
      "text/plain": [
       "  Medical_Specialty                                      Medical_Notes\n",
       "0  Gastroenterology  PREOPERATIVE DIAGNOSIS:Abdominal wall abscess....\n",
       "1  Gastroenterology  PREOPERATIVE DIAGNOSES:1.  Congenital chylous ...\n",
       "2  Gastroenterology  CHIEF COMPLAINT:Abdominal pain.HISTORY OF PRES...\n",
       "3  Gastroenterology  PREOPERATIVE DIAGNOSIS:Recurrent re-infected s...\n",
       "4  Gastroenterology  CHIEF COMPLAINT:Nausea.PRESENT ILLNESS:The pat..."
      ]
     },
     "execution_count": 29,
     "metadata": {},
     "output_type": "execute_result"
    }
   ],
   "source": [
    "# Read in the Gastroenterology dataframe and replace missing or empty strings with NaN\n",
    "\n",
    "pickle_in = open(\"gastroenterology_df.pickle\", \"rb\") # read in pickle file\n",
    "gastroenterology_df = pickle.load(pickle_in)\n",
    "gastroenterology_df.columns = ['Medical_Specialty', 'Medical_Notes']\n",
    "gastroenterology_df.Medical_Notes = gastroenterology_df.Medical_Notes.replace(r'^\\s*$', np.nan, regex=True)   \n",
    "print(len(gastroenterology_df))\n",
    "gastroenterology_df.head()"
   ]
  },
  {
   "cell_type": "code",
   "execution_count": 30,
   "metadata": {},
   "outputs": [
    {
     "name": "stdout",
     "output_type": "stream",
     "text": [
      "220\n"
     ]
    },
    {
     "data": {
      "text/html": [
       "<div>\n",
       "<style scoped>\n",
       "    .dataframe tbody tr th:only-of-type {\n",
       "        vertical-align: middle;\n",
       "    }\n",
       "\n",
       "    .dataframe tbody tr th {\n",
       "        vertical-align: top;\n",
       "    }\n",
       "\n",
       "    .dataframe thead th {\n",
       "        text-align: right;\n",
       "    }\n",
       "</style>\n",
       "<table border=\"1\" class=\"dataframe\">\n",
       "  <thead>\n",
       "    <tr style=\"text-align: right;\">\n",
       "      <th></th>\n",
       "      <th>Medical_Specialty</th>\n",
       "      <th>Medical_Notes</th>\n",
       "    </tr>\n",
       "  </thead>\n",
       "  <tbody>\n",
       "    <tr>\n",
       "      <th>0</th>\n",
       "      <td>Gastroenterology</td>\n",
       "      <td>PREOPERATIVE DIAGNOSIS:Abdominal wall abscess....</td>\n",
       "    </tr>\n",
       "    <tr>\n",
       "      <th>1</th>\n",
       "      <td>Gastroenterology</td>\n",
       "      <td>PREOPERATIVE DIAGNOSES:1.  Congenital chylous ...</td>\n",
       "    </tr>\n",
       "    <tr>\n",
       "      <th>2</th>\n",
       "      <td>Gastroenterology</td>\n",
       "      <td>CHIEF COMPLAINT:Abdominal pain.HISTORY OF PRES...</td>\n",
       "    </tr>\n",
       "    <tr>\n",
       "      <th>3</th>\n",
       "      <td>Gastroenterology</td>\n",
       "      <td>PREOPERATIVE DIAGNOSIS:Recurrent re-infected s...</td>\n",
       "    </tr>\n",
       "    <tr>\n",
       "      <th>4</th>\n",
       "      <td>Gastroenterology</td>\n",
       "      <td>CHIEF COMPLAINT:Nausea.PRESENT ILLNESS:The pat...</td>\n",
       "    </tr>\n",
       "  </tbody>\n",
       "</table>\n",
       "</div>"
      ],
      "text/plain": [
       "  Medical_Specialty                                      Medical_Notes\n",
       "0  Gastroenterology  PREOPERATIVE DIAGNOSIS:Abdominal wall abscess....\n",
       "1  Gastroenterology  PREOPERATIVE DIAGNOSES:1.  Congenital chylous ...\n",
       "2  Gastroenterology  CHIEF COMPLAINT:Abdominal pain.HISTORY OF PRES...\n",
       "3  Gastroenterology  PREOPERATIVE DIAGNOSIS:Recurrent re-infected s...\n",
       "4  Gastroenterology  CHIEF COMPLAINT:Nausea.PRESENT ILLNESS:The pat..."
      ]
     },
     "execution_count": 30,
     "metadata": {},
     "output_type": "execute_result"
    }
   ],
   "source": [
    "# Drop NaN values from the dataframe\n",
    "\n",
    "gastroenterology_df = gastroenterology_df.dropna()\n",
    "print(len(gastroenterology_df))\n",
    "gastroenterology_df.head()"
   ]
  },
  {
   "cell_type": "code",
   "execution_count": 22,
   "metadata": {},
   "outputs": [
    {
     "name": "stdout",
     "output_type": "stream",
     "text": [
      "223\n"
     ]
    },
    {
     "data": {
      "text/html": [
       "<div>\n",
       "<style scoped>\n",
       "    .dataframe tbody tr th:only-of-type {\n",
       "        vertical-align: middle;\n",
       "    }\n",
       "\n",
       "    .dataframe tbody tr th {\n",
       "        vertical-align: top;\n",
       "    }\n",
       "\n",
       "    .dataframe thead th {\n",
       "        text-align: right;\n",
       "    }\n",
       "</style>\n",
       "<table border=\"1\" class=\"dataframe\">\n",
       "  <thead>\n",
       "    <tr style=\"text-align: right;\">\n",
       "      <th></th>\n",
       "      <th>Medical_Specialty</th>\n",
       "      <th>Medical_Notes</th>\n",
       "    </tr>\n",
       "  </thead>\n",
       "  <tbody>\n",
       "    <tr>\n",
       "      <th>0</th>\n",
       "      <td>Neurology</td>\n",
       "      <td>CC:Left hand numbness on presentation; then de...</td>\n",
       "    </tr>\n",
       "    <tr>\n",
       "      <th>1</th>\n",
       "      <td>Neurology</td>\n",
       "      <td>REASON FOR VISIT:The patient is a 74-year-old ...</td>\n",
       "    </tr>\n",
       "    <tr>\n",
       "      <th>2</th>\n",
       "      <td>Neurology</td>\n",
       "      <td>CC:Memory difficulty.HX:This 64 y/o RHM had ha...</td>\n",
       "    </tr>\n",
       "    <tr>\n",
       "      <th>3</th>\n",
       "      <td>Neurology</td>\n",
       "      <td>NaN</td>\n",
       "    </tr>\n",
       "    <tr>\n",
       "      <th>4</th>\n",
       "      <td>Neurology</td>\n",
       "      <td>CC:Seizures.HX:The patient was initially evalu...</td>\n",
       "    </tr>\n",
       "  </tbody>\n",
       "</table>\n",
       "</div>"
      ],
      "text/plain": [
       "  Medical_Specialty                                      Medical_Notes\n",
       "0         Neurology  CC:Left hand numbness on presentation; then de...\n",
       "1         Neurology  REASON FOR VISIT:The patient is a 74-year-old ...\n",
       "2         Neurology  CC:Memory difficulty.HX:This 64 y/o RHM had ha...\n",
       "3         Neurology                                                NaN\n",
       "4         Neurology  CC:Seizures.HX:The patient was initially evalu..."
      ]
     },
     "execution_count": 22,
     "metadata": {},
     "output_type": "execute_result"
    }
   ],
   "source": [
    "# Read in the Neurology dataframe and replace missing or empty strings with NaN\n",
    "\n",
    "pickle_in = open(\"neurology_df.pickle\", \"rb\") # read in pickle file\n",
    "neurology_df = pickle.load(pickle_in)\n",
    "neurology_df.columns = ['Medical_Specialty', 'Medical_Notes']\n",
    "neurology_df.Medical_Notes = neurology_df.Medical_Notes.replace(r'^\\s*$', np.nan, regex=True)   \n",
    "print(len(neurology_df))\n",
    "neurology_df.head()"
   ]
  },
  {
   "cell_type": "code",
   "execution_count": 23,
   "metadata": {},
   "outputs": [
    {
     "name": "stdout",
     "output_type": "stream",
     "text": [
      "215\n"
     ]
    },
    {
     "data": {
      "text/html": [
       "<div>\n",
       "<style scoped>\n",
       "    .dataframe tbody tr th:only-of-type {\n",
       "        vertical-align: middle;\n",
       "    }\n",
       "\n",
       "    .dataframe tbody tr th {\n",
       "        vertical-align: top;\n",
       "    }\n",
       "\n",
       "    .dataframe thead th {\n",
       "        text-align: right;\n",
       "    }\n",
       "</style>\n",
       "<table border=\"1\" class=\"dataframe\">\n",
       "  <thead>\n",
       "    <tr style=\"text-align: right;\">\n",
       "      <th></th>\n",
       "      <th>Medical_Specialty</th>\n",
       "      <th>Medical_Notes</th>\n",
       "    </tr>\n",
       "  </thead>\n",
       "  <tbody>\n",
       "    <tr>\n",
       "      <th>0</th>\n",
       "      <td>Neurology</td>\n",
       "      <td>CC:Left hand numbness on presentation; then de...</td>\n",
       "    </tr>\n",
       "    <tr>\n",
       "      <th>1</th>\n",
       "      <td>Neurology</td>\n",
       "      <td>REASON FOR VISIT:The patient is a 74-year-old ...</td>\n",
       "    </tr>\n",
       "    <tr>\n",
       "      <th>2</th>\n",
       "      <td>Neurology</td>\n",
       "      <td>CC:Memory difficulty.HX:This 64 y/o RHM had ha...</td>\n",
       "    </tr>\n",
       "    <tr>\n",
       "      <th>4</th>\n",
       "      <td>Neurology</td>\n",
       "      <td>CC:Seizures.HX:The patient was initially evalu...</td>\n",
       "    </tr>\n",
       "    <tr>\n",
       "      <th>5</th>\n",
       "      <td>Neurology</td>\n",
       "      <td>HISTORY OF PRESENT ILLNESS:The patient is a 58...</td>\n",
       "    </tr>\n",
       "  </tbody>\n",
       "</table>\n",
       "</div>"
      ],
      "text/plain": [
       "  Medical_Specialty                                      Medical_Notes\n",
       "0         Neurology  CC:Left hand numbness on presentation; then de...\n",
       "1         Neurology  REASON FOR VISIT:The patient is a 74-year-old ...\n",
       "2         Neurology  CC:Memory difficulty.HX:This 64 y/o RHM had ha...\n",
       "4         Neurology  CC:Seizures.HX:The patient was initially evalu...\n",
       "5         Neurology  HISTORY OF PRESENT ILLNESS:The patient is a 58..."
      ]
     },
     "execution_count": 23,
     "metadata": {},
     "output_type": "execute_result"
    }
   ],
   "source": [
    "# Drop NaN values from the dataframe\n",
    "\n",
    "neurology_df = neurology_df.dropna()\n",
    "print(len(neurology_df))\n",
    "neurology_df.head()"
   ]
  },
  {
   "cell_type": "code",
   "execution_count": 31,
   "metadata": {},
   "outputs": [
    {
     "name": "stdout",
     "output_type": "stream",
     "text": [
      "355\n"
     ]
    },
    {
     "data": {
      "text/html": [
       "<div>\n",
       "<style scoped>\n",
       "    .dataframe tbody tr th:only-of-type {\n",
       "        vertical-align: middle;\n",
       "    }\n",
       "\n",
       "    .dataframe tbody tr th {\n",
       "        vertical-align: top;\n",
       "    }\n",
       "\n",
       "    .dataframe thead th {\n",
       "        text-align: right;\n",
       "    }\n",
       "</style>\n",
       "<table border=\"1\" class=\"dataframe\">\n",
       "  <thead>\n",
       "    <tr style=\"text-align: right;\">\n",
       "      <th></th>\n",
       "      <th>Medical_Specialty</th>\n",
       "      <th>Medical_Notes</th>\n",
       "    </tr>\n",
       "  </thead>\n",
       "  <tbody>\n",
       "    <tr>\n",
       "      <th>0</th>\n",
       "      <td>Orthopedics</td>\n",
       "      <td>PREOPERATIVE DIAGNOSIS:Right AC separation.POS...</td>\n",
       "    </tr>\n",
       "    <tr>\n",
       "      <th>1</th>\n",
       "      <td>Orthopedics</td>\n",
       "      <td>PREOPERATIVE DIAGNOSIS:Idiopathic toe walker.P...</td>\n",
       "    </tr>\n",
       "    <tr>\n",
       "      <th>2</th>\n",
       "      <td>Orthopedics</td>\n",
       "      <td>CHIEF COMPLAINT:Achilles ruptured tendon.HISTO...</td>\n",
       "    </tr>\n",
       "    <tr>\n",
       "      <th>3</th>\n",
       "      <td>Orthopedics</td>\n",
       "      <td>PREOPERATIVE DIAGNOSIS:Achilles tendon rupture...</td>\n",
       "    </tr>\n",
       "    <tr>\n",
       "      <th>4</th>\n",
       "      <td>Orthopedics</td>\n",
       "      <td>IDENTIFICATION:The patient is a 15-year-old fe...</td>\n",
       "    </tr>\n",
       "  </tbody>\n",
       "</table>\n",
       "</div>"
      ],
      "text/plain": [
       "  Medical_Specialty                                      Medical_Notes\n",
       "0       Orthopedics  PREOPERATIVE DIAGNOSIS:Right AC separation.POS...\n",
       "1       Orthopedics  PREOPERATIVE DIAGNOSIS:Idiopathic toe walker.P...\n",
       "2       Orthopedics  CHIEF COMPLAINT:Achilles ruptured tendon.HISTO...\n",
       "3       Orthopedics  PREOPERATIVE DIAGNOSIS:Achilles tendon rupture...\n",
       "4       Orthopedics  IDENTIFICATION:The patient is a 15-year-old fe..."
      ]
     },
     "execution_count": 31,
     "metadata": {},
     "output_type": "execute_result"
    }
   ],
   "source": [
    "# Read in the Orthopedic dataframe and replace missing or empty strings with NaN\n",
    "\n",
    "pickle_in = open(\"orthopedic_df.pickle\", \"rb\") # read in pickle file\n",
    "orthopedic_df = pickle.load(pickle_in)\n",
    "orthopedic_df.columns = ['Medical_Specialty', 'Medical_Notes']\n",
    "orthopedic_df.Medical_Notes = orthopedic_df.Medical_Notes.replace(r'^\\s*$', np.nan, regex=True)   \n",
    "print(len(orthopedic_df))\n",
    "orthopedic_df.head()"
   ]
  },
  {
   "cell_type": "code",
   "execution_count": 32,
   "metadata": {},
   "outputs": [
    {
     "name": "stdout",
     "output_type": "stream",
     "text": [
      "353\n"
     ]
    },
    {
     "data": {
      "text/html": [
       "<div>\n",
       "<style scoped>\n",
       "    .dataframe tbody tr th:only-of-type {\n",
       "        vertical-align: middle;\n",
       "    }\n",
       "\n",
       "    .dataframe tbody tr th {\n",
       "        vertical-align: top;\n",
       "    }\n",
       "\n",
       "    .dataframe thead th {\n",
       "        text-align: right;\n",
       "    }\n",
       "</style>\n",
       "<table border=\"1\" class=\"dataframe\">\n",
       "  <thead>\n",
       "    <tr style=\"text-align: right;\">\n",
       "      <th></th>\n",
       "      <th>Medical_Specialty</th>\n",
       "      <th>Medical_Notes</th>\n",
       "    </tr>\n",
       "  </thead>\n",
       "  <tbody>\n",
       "    <tr>\n",
       "      <th>0</th>\n",
       "      <td>Orthopedics</td>\n",
       "      <td>PREOPERATIVE DIAGNOSIS:Right AC separation.POS...</td>\n",
       "    </tr>\n",
       "    <tr>\n",
       "      <th>1</th>\n",
       "      <td>Orthopedics</td>\n",
       "      <td>PREOPERATIVE DIAGNOSIS:Idiopathic toe walker.P...</td>\n",
       "    </tr>\n",
       "    <tr>\n",
       "      <th>2</th>\n",
       "      <td>Orthopedics</td>\n",
       "      <td>CHIEF COMPLAINT:Achilles ruptured tendon.HISTO...</td>\n",
       "    </tr>\n",
       "    <tr>\n",
       "      <th>3</th>\n",
       "      <td>Orthopedics</td>\n",
       "      <td>PREOPERATIVE DIAGNOSIS:Achilles tendon rupture...</td>\n",
       "    </tr>\n",
       "    <tr>\n",
       "      <th>4</th>\n",
       "      <td>Orthopedics</td>\n",
       "      <td>IDENTIFICATION:The patient is a 15-year-old fe...</td>\n",
       "    </tr>\n",
       "  </tbody>\n",
       "</table>\n",
       "</div>"
      ],
      "text/plain": [
       "  Medical_Specialty                                      Medical_Notes\n",
       "0       Orthopedics  PREOPERATIVE DIAGNOSIS:Right AC separation.POS...\n",
       "1       Orthopedics  PREOPERATIVE DIAGNOSIS:Idiopathic toe walker.P...\n",
       "2       Orthopedics  CHIEF COMPLAINT:Achilles ruptured tendon.HISTO...\n",
       "3       Orthopedics  PREOPERATIVE DIAGNOSIS:Achilles tendon rupture...\n",
       "4       Orthopedics  IDENTIFICATION:The patient is a 15-year-old fe..."
      ]
     },
     "execution_count": 32,
     "metadata": {},
     "output_type": "execute_result"
    }
   ],
   "source": [
    "# Drop NaN values from the dataframe\n",
    "\n",
    "orthopedic_df = orthopedic_df.dropna()\n",
    "print(len(orthopedic_df))\n",
    "orthopedic_df.head()"
   ]
  },
  {
   "cell_type": "code",
   "execution_count": 33,
   "metadata": {},
   "outputs": [
    {
     "name": "stdout",
     "output_type": "stream",
     "text": [
      "273\n"
     ]
    },
    {
     "data": {
      "text/html": [
       "<div>\n",
       "<style scoped>\n",
       "    .dataframe tbody tr th:only-of-type {\n",
       "        vertical-align: middle;\n",
       "    }\n",
       "\n",
       "    .dataframe tbody tr th {\n",
       "        vertical-align: top;\n",
       "    }\n",
       "\n",
       "    .dataframe thead th {\n",
       "        text-align: right;\n",
       "    }\n",
       "</style>\n",
       "<table border=\"1\" class=\"dataframe\">\n",
       "  <thead>\n",
       "    <tr style=\"text-align: right;\">\n",
       "      <th></th>\n",
       "      <th>Medical_Specialty</th>\n",
       "      <th>Medical_Notes</th>\n",
       "    </tr>\n",
       "  </thead>\n",
       "  <tbody>\n",
       "    <tr>\n",
       "      <th>0</th>\n",
       "      <td>Radiology</td>\n",
       "      <td>2-D STUDY1. Mild aortic stenosis, widely calci...</td>\n",
       "    </tr>\n",
       "    <tr>\n",
       "      <th>1</th>\n",
       "      <td>Radiology</td>\n",
       "      <td>2-D M-MODE:1.  Left atrial enlargement with le...</td>\n",
       "    </tr>\n",
       "    <tr>\n",
       "      <th>2</th>\n",
       "      <td>Radiology</td>\n",
       "      <td>NaN</td>\n",
       "    </tr>\n",
       "    <tr>\n",
       "      <th>3</th>\n",
       "      <td>Radiology</td>\n",
       "      <td>2-D ECHOCARDIOGRAMMultiple views of the heart ...</td>\n",
       "    </tr>\n",
       "    <tr>\n",
       "      <th>4</th>\n",
       "      <td>Radiology</td>\n",
       "      <td>DESCRIPTION:1.  Normal cardiac chambers size.\\...</td>\n",
       "    </tr>\n",
       "  </tbody>\n",
       "</table>\n",
       "</div>"
      ],
      "text/plain": [
       "  Medical_Specialty                                      Medical_Notes\n",
       "0         Radiology  2-D STUDY1. Mild aortic stenosis, widely calci...\n",
       "1         Radiology  2-D M-MODE:1.  Left atrial enlargement with le...\n",
       "2         Radiology                                                NaN\n",
       "3         Radiology  2-D ECHOCARDIOGRAMMultiple views of the heart ...\n",
       "4         Radiology  DESCRIPTION:1.  Normal cardiac chambers size.\\..."
      ]
     },
     "execution_count": 33,
     "metadata": {},
     "output_type": "execute_result"
    }
   ],
   "source": [
    "# Read in the Radiology dataframe and replace missing or empty strings with NaN\n",
    "\n",
    "pickle_in = open(\"radiology_df.pickle\", \"rb\") # read in pickle file\n",
    "radiology_df = pickle.load(pickle_in)\n",
    "radiology_df.columns = ['Medical_Specialty', 'Medical_Notes']\n",
    "radiology_df.Medical_Notes = radiology_df.Medical_Notes.replace(r'^\\s*$', np.nan, regex=True)   \n",
    "print(len(radiology_df))\n",
    "radiology_df.head()"
   ]
  },
  {
   "cell_type": "code",
   "execution_count": 34,
   "metadata": {},
   "outputs": [
    {
     "name": "stdout",
     "output_type": "stream",
     "text": [
      "269\n"
     ]
    },
    {
     "data": {
      "text/html": [
       "<div>\n",
       "<style scoped>\n",
       "    .dataframe tbody tr th:only-of-type {\n",
       "        vertical-align: middle;\n",
       "    }\n",
       "\n",
       "    .dataframe tbody tr th {\n",
       "        vertical-align: top;\n",
       "    }\n",
       "\n",
       "    .dataframe thead th {\n",
       "        text-align: right;\n",
       "    }\n",
       "</style>\n",
       "<table border=\"1\" class=\"dataframe\">\n",
       "  <thead>\n",
       "    <tr style=\"text-align: right;\">\n",
       "      <th></th>\n",
       "      <th>Medical_Specialty</th>\n",
       "      <th>Medical_Notes</th>\n",
       "    </tr>\n",
       "  </thead>\n",
       "  <tbody>\n",
       "    <tr>\n",
       "      <th>0</th>\n",
       "      <td>Radiology</td>\n",
       "      <td>2-D STUDY1. Mild aortic stenosis, widely calci...</td>\n",
       "    </tr>\n",
       "    <tr>\n",
       "      <th>1</th>\n",
       "      <td>Radiology</td>\n",
       "      <td>2-D M-MODE:1.  Left atrial enlargement with le...</td>\n",
       "    </tr>\n",
       "    <tr>\n",
       "      <th>3</th>\n",
       "      <td>Radiology</td>\n",
       "      <td>2-D ECHOCARDIOGRAMMultiple views of the heart ...</td>\n",
       "    </tr>\n",
       "    <tr>\n",
       "      <th>4</th>\n",
       "      <td>Radiology</td>\n",
       "      <td>DESCRIPTION:1.  Normal cardiac chambers size.\\...</td>\n",
       "    </tr>\n",
       "    <tr>\n",
       "      <th>5</th>\n",
       "      <td>Radiology</td>\n",
       "      <td>3-DIMENSIONAL SIMULATIONThis patient is underg...</td>\n",
       "    </tr>\n",
       "  </tbody>\n",
       "</table>\n",
       "</div>"
      ],
      "text/plain": [
       "  Medical_Specialty                                      Medical_Notes\n",
       "0         Radiology  2-D STUDY1. Mild aortic stenosis, widely calci...\n",
       "1         Radiology  2-D M-MODE:1.  Left atrial enlargement with le...\n",
       "3         Radiology  2-D ECHOCARDIOGRAMMultiple views of the heart ...\n",
       "4         Radiology  DESCRIPTION:1.  Normal cardiac chambers size.\\...\n",
       "5         Radiology  3-DIMENSIONAL SIMULATIONThis patient is underg..."
      ]
     },
     "execution_count": 34,
     "metadata": {},
     "output_type": "execute_result"
    }
   ],
   "source": [
    "# Drop NaN values from the dataframe\n",
    "\n",
    "radiology_df = radiology_df.dropna()\n",
    "print(len(radiology_df))\n",
    "radiology_df.head()"
   ]
  },
  {
   "cell_type": "code",
   "execution_count": 35,
   "metadata": {},
   "outputs": [
    {
     "name": "stdout",
     "output_type": "stream",
     "text": [
      "158\n"
     ]
    },
    {
     "data": {
      "text/html": [
       "<div>\n",
       "<style scoped>\n",
       "    .dataframe tbody tr th:only-of-type {\n",
       "        vertical-align: middle;\n",
       "    }\n",
       "\n",
       "    .dataframe tbody tr th {\n",
       "        vertical-align: top;\n",
       "    }\n",
       "\n",
       "    .dataframe thead th {\n",
       "        text-align: right;\n",
       "    }\n",
       "</style>\n",
       "<table border=\"1\" class=\"dataframe\">\n",
       "  <thead>\n",
       "    <tr style=\"text-align: right;\">\n",
       "      <th></th>\n",
       "      <th>Medical_Specialty</th>\n",
       "      <th>Medical_Notes</th>\n",
       "    </tr>\n",
       "  </thead>\n",
       "  <tbody>\n",
       "    <tr>\n",
       "      <th>0</th>\n",
       "      <td>Urology</td>\n",
       "      <td>PREOPERATIVE DIAGNOSES1.  Adrenal mass, right ...</td>\n",
       "    </tr>\n",
       "    <tr>\n",
       "      <th>1</th>\n",
       "      <td>Urology</td>\n",
       "      <td>NaN</td>\n",
       "    </tr>\n",
       "    <tr>\n",
       "      <th>2</th>\n",
       "      <td>Urology</td>\n",
       "      <td>PREOPERATIVE DIAGNOSIS:Stress urinary incontin...</td>\n",
       "    </tr>\n",
       "    <tr>\n",
       "      <th>3</th>\n",
       "      <td>Urology</td>\n",
       "      <td>PREOPERATIVE DIAGNOSIS:Bladder lesions with hi...</td>\n",
       "    </tr>\n",
       "    <tr>\n",
       "      <th>4</th>\n",
       "      <td>Urology</td>\n",
       "      <td>CHIEF COMPLAINT:Bladder cancer.HISTORY OF PRES...</td>\n",
       "    </tr>\n",
       "  </tbody>\n",
       "</table>\n",
       "</div>"
      ],
      "text/plain": [
       "  Medical_Specialty                                      Medical_Notes\n",
       "0           Urology  PREOPERATIVE DIAGNOSES1.  Adrenal mass, right ...\n",
       "1           Urology                                                NaN\n",
       "2           Urology  PREOPERATIVE DIAGNOSIS:Stress urinary incontin...\n",
       "3           Urology  PREOPERATIVE DIAGNOSIS:Bladder lesions with hi...\n",
       "4           Urology  CHIEF COMPLAINT:Bladder cancer.HISTORY OF PRES..."
      ]
     },
     "execution_count": 35,
     "metadata": {},
     "output_type": "execute_result"
    }
   ],
   "source": [
    "# Read in the Urology dataframe and replace missing or empty strings with NaN\n",
    "\n",
    "pickle_in = open(\"urology_df.pickle\", \"rb\") # read in pickle file\n",
    "urology_df = pickle.load(pickle_in)\n",
    "urology_df.columns = ['Medical_Specialty', 'Medical_Notes']\n",
    "urology_df.Medical_Notes = urology_df.Medical_Notes.replace(r'^\\s*$', np.nan, regex=True)   \n",
    "print(len(urology_df))\n",
    "urology_df.head()"
   ]
  },
  {
   "cell_type": "code",
   "execution_count": 37,
   "metadata": {},
   "outputs": [
    {
     "name": "stdout",
     "output_type": "stream",
     "text": [
      "151\n"
     ]
    },
    {
     "data": {
      "text/html": [
       "<div>\n",
       "<style scoped>\n",
       "    .dataframe tbody tr th:only-of-type {\n",
       "        vertical-align: middle;\n",
       "    }\n",
       "\n",
       "    .dataframe tbody tr th {\n",
       "        vertical-align: top;\n",
       "    }\n",
       "\n",
       "    .dataframe thead th {\n",
       "        text-align: right;\n",
       "    }\n",
       "</style>\n",
       "<table border=\"1\" class=\"dataframe\">\n",
       "  <thead>\n",
       "    <tr style=\"text-align: right;\">\n",
       "      <th></th>\n",
       "      <th>Medical_Specialty</th>\n",
       "      <th>Medical_Notes</th>\n",
       "    </tr>\n",
       "  </thead>\n",
       "  <tbody>\n",
       "    <tr>\n",
       "      <th>0</th>\n",
       "      <td>Urology</td>\n",
       "      <td>PREOPERATIVE DIAGNOSES1.  Adrenal mass, right ...</td>\n",
       "    </tr>\n",
       "    <tr>\n",
       "      <th>2</th>\n",
       "      <td>Urology</td>\n",
       "      <td>PREOPERATIVE DIAGNOSIS:Stress urinary incontin...</td>\n",
       "    </tr>\n",
       "    <tr>\n",
       "      <th>3</th>\n",
       "      <td>Urology</td>\n",
       "      <td>PREOPERATIVE DIAGNOSIS:Bladder lesions with hi...</td>\n",
       "    </tr>\n",
       "    <tr>\n",
       "      <th>4</th>\n",
       "      <td>Urology</td>\n",
       "      <td>CHIEF COMPLAINT:Bladder cancer.HISTORY OF PRES...</td>\n",
       "    </tr>\n",
       "    <tr>\n",
       "      <th>5</th>\n",
       "      <td>Urology</td>\n",
       "      <td>CHIEF COMPLAINT:The patient comes for bladder ...</td>\n",
       "    </tr>\n",
       "  </tbody>\n",
       "</table>\n",
       "</div>"
      ],
      "text/plain": [
       "  Medical_Specialty                                      Medical_Notes\n",
       "0           Urology  PREOPERATIVE DIAGNOSES1.  Adrenal mass, right ...\n",
       "2           Urology  PREOPERATIVE DIAGNOSIS:Stress urinary incontin...\n",
       "3           Urology  PREOPERATIVE DIAGNOSIS:Bladder lesions with hi...\n",
       "4           Urology  CHIEF COMPLAINT:Bladder cancer.HISTORY OF PRES...\n",
       "5           Urology  CHIEF COMPLAINT:The patient comes for bladder ..."
      ]
     },
     "execution_count": 37,
     "metadata": {},
     "output_type": "execute_result"
    }
   ],
   "source": [
    "# Drop NaN values from the dataframe\n",
    "\n",
    "urology_df = urology_df.dropna()\n",
    "print(len(urology_df))\n",
    "urology_df.head()"
   ]
  },
  {
   "cell_type": "code",
   "execution_count": 39,
   "metadata": {},
   "outputs": [
    {
     "name": "stdout",
     "output_type": "stream",
     "text": [
      "1208\n"
     ]
    },
    {
     "data": {
      "text/html": [
       "<div>\n",
       "<style scoped>\n",
       "    .dataframe tbody tr th:only-of-type {\n",
       "        vertical-align: middle;\n",
       "    }\n",
       "\n",
       "    .dataframe tbody tr th {\n",
       "        vertical-align: top;\n",
       "    }\n",
       "\n",
       "    .dataframe thead th {\n",
       "        text-align: right;\n",
       "    }\n",
       "</style>\n",
       "<table border=\"1\" class=\"dataframe\">\n",
       "  <thead>\n",
       "    <tr style=\"text-align: right;\">\n",
       "      <th></th>\n",
       "      <th>Medical_Specialty</th>\n",
       "      <th>Medical_Notes</th>\n",
       "    </tr>\n",
       "  </thead>\n",
       "  <tbody>\n",
       "    <tr>\n",
       "      <th>0</th>\n",
       "      <td>Gastroenterology</td>\n",
       "      <td>PREOPERATIVE DIAGNOSIS:Abdominal wall abscess....</td>\n",
       "    </tr>\n",
       "    <tr>\n",
       "      <th>1</th>\n",
       "      <td>Gastroenterology</td>\n",
       "      <td>PREOPERATIVE DIAGNOSES:1.  Congenital chylous ...</td>\n",
       "    </tr>\n",
       "    <tr>\n",
       "      <th>2</th>\n",
       "      <td>Gastroenterology</td>\n",
       "      <td>CHIEF COMPLAINT:Abdominal pain.HISTORY OF PRES...</td>\n",
       "    </tr>\n",
       "    <tr>\n",
       "      <th>3</th>\n",
       "      <td>Gastroenterology</td>\n",
       "      <td>PREOPERATIVE DIAGNOSIS:Recurrent re-infected s...</td>\n",
       "    </tr>\n",
       "    <tr>\n",
       "      <th>4</th>\n",
       "      <td>Gastroenterology</td>\n",
       "      <td>CHIEF COMPLAINT:Nausea.PRESENT ILLNESS:The pat...</td>\n",
       "    </tr>\n",
       "  </tbody>\n",
       "</table>\n",
       "</div>"
      ],
      "text/plain": [
       "  Medical_Specialty                                      Medical_Notes\n",
       "0  Gastroenterology  PREOPERATIVE DIAGNOSIS:Abdominal wall abscess....\n",
       "1  Gastroenterology  PREOPERATIVE DIAGNOSES:1.  Congenital chylous ...\n",
       "2  Gastroenterology  CHIEF COMPLAINT:Abdominal pain.HISTORY OF PRES...\n",
       "3  Gastroenterology  PREOPERATIVE DIAGNOSIS:Recurrent re-infected s...\n",
       "4  Gastroenterology  CHIEF COMPLAINT:Nausea.PRESENT ILLNESS:The pat..."
      ]
     },
     "execution_count": 39,
     "metadata": {},
     "output_type": "execute_result"
    }
   ],
   "source": [
    "# Merge the dataframes together to create a master dataframe for all medical notes\n",
    "\n",
    "frames = [gastroenterology_df, neurology_df, orthopedic_df, radiology_df, urology_df]\n",
    "medical_records = pd.concat(frames)\n",
    "print(len(medical_records))\n",
    "medical_records.head()"
   ]
  },
  {
   "cell_type": "code",
   "execution_count": 40,
   "metadata": {},
   "outputs": [],
   "source": [
    "# pickle dataframe as a checkpoint\n",
    "\n",
    "pickle_out = open(\"medical_records_master.pickle\", \"wb\") # write file to bytes\n",
    "pickle.dump(medical_records, pickle_out)\n",
    "pickle_out.close()"
   ]
  },
  {
   "cell_type": "code",
   "execution_count": null,
   "metadata": {},
   "outputs": [],
   "source": []
  }
 ],
 "metadata": {
  "kernelspec": {
   "display_name": "Python 3",
   "language": "python",
   "name": "python3"
  },
  "language_info": {
   "codemirror_mode": {
    "name": "ipython",
    "version": 3
   },
   "file_extension": ".py",
   "mimetype": "text/x-python",
   "name": "python",
   "nbconvert_exporter": "python",
   "pygments_lexer": "ipython3",
   "version": "3.6.8"
  }
 },
 "nbformat": 4,
 "nbformat_minor": 2
}
